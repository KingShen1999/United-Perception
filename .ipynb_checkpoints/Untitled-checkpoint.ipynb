{
 "cells": [
  {
   "cell_type": "code",
   "execution_count": 12,
   "id": "26219801",
   "metadata": {},
   "outputs": [
    {
     "name": "stdout",
     "output_type": "stream",
     "text": [
      "['']\n"
     ]
    }
   ],
   "source": [
    "from collections import *\n",
    "import matplotlib.pyplot as plt\n",
    "import cv2\n",
    "\n",
    "freqDict = defaultdict(int)\n",
    "\n",
    "with open('train.txt', 'r') as reader:\n",
    "    line = reader.readline()\n",
    "    \n",
    "    while line != '':  # The EOF char is an empty string\n",
    "        #print(line, end='')\n",
    "        line = reader.readline()\n",
    "        image = cv2.imread('line')\n",
    "        tmp = line.split(\" \")\n",
    "        try:\n",
    "            freqDict[tmp[1][:-1]]+=1\n",
    "        except:\n",
    "            print(tmp)"
   ]
  },
  {
   "cell_type": "code",
   "execution_count": 23,
   "id": "a84fade1",
   "metadata": {},
   "outputs": [],
   "source": [
    "total = []\n",
    "for key in freqDict.keys():\n",
    "    total.append([freqDict[key],key])\n",
    "total.sort()"
   ]
  },
  {
   "cell_type": "code",
   "execution_count": 26,
   "id": "23b04396",
   "metadata": {},
   "outputs": [],
   "source": [
    "total = total[-1::-1]"
   ]
  },
  {
   "cell_type": "code",
   "execution_count": 28,
   "id": "a62affc4",
   "metadata": {},
   "outputs": [],
   "source": [
    "x = []\n",
    "y = []\n",
    "for value,key in total:\n",
    "    x.append(key)\n",
    "    y.append(value)"
   ]
  },
  {
   "cell_type": "code",
   "execution_count": null,
   "id": "fac7e3b8",
   "metadata": {},
   "outputs": [],
   "source": []
  },
  {
   "cell_type": "code",
   "execution_count": 29,
   "id": "340cd0ab",
   "metadata": {},
   "outputs": [
    {
     "data": {
      "text/plain": [
       "<BarContainer object of 89 artists>"
      ]
     },
     "execution_count": 29,
     "metadata": {},
     "output_type": "execute_result"
    },
    {
     "data": {
      "image/png": "[encoded data removed]",
      "text/plain": [
       "<Figure size 432x288 with 1 Axes>"
      ]
     },
     "metadata": {
      "needs_background": "light"
     },
     "output_type": "display_data"
    }
   ],
   "source": [
    "plt.bar(x,y)"
   ]
  },
  {
   "cell_type": "code",
   "execution_count": null,
   "id": "5bea36bd",
   "metadata": {},
   "outputs": [],
   "source": []
  }
 ],
 "metadata": {
  "kernelspec": {
   "display_name": "Python 3 (ipykernel)",
   "language": "python",
   "name": "python3"
  },
  "language_info": {
   "codemirror_mode": {
    "name": "ipython",
    "version": 3
   },
   "file_extension": ".py",
   "mimetype": "text/x-python",
   "name": "python",
   "nbconvert_exporter": "python",
   "pygments_lexer": "ipython3",
   "version": "3.8.10"
  }
 },
 "nbformat": 4,
 "nbformat_minor": 5
}
